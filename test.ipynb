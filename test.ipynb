{
 "cells": [
  {
   "cell_type": "code",
   "execution_count": 1,
   "metadata": {
    "scrolled": false
   },
   "outputs": [],
   "source": [
    "import pandas\n",
    "import torch\n",
    "from matplotlib import pyplot as prt\n",
    "from torch import nn"
   ]
  },
  {
   "cell_type": "code",
   "execution_count": 3,
   "metadata": {},
   "outputs": [
    {
     "data": {
      "text/plain": [
       "[<matplotlib.lines.Line2D at 0x24716312820>]"
      ]
     },
     "execution_count": 3,
     "metadata": {},
     "output_type": "execute_result"
    },
    {
     "data": {
      "image/png": "[encoded data removed]",
      "text/plain": [
       "<Figure size 432x288 with 1 Axes>"
      ]
     },
     "metadata": {
      "needs_background": "light"
     },
     "output_type": "display_data"
    }
   ],
   "source": [
    "x = torch.rand([50,1])\n",
    "y = 2*x + 5\n",
    "# w = torch.rand([2], requires_grad= True)\n",
    "x,y\n",
    "prt.plot(x,y)"
   ]
  },
  {
   "cell_type": "code",
   "execution_count": 4,
   "metadata": {},
   "outputs": [],
   "source": [
    "class lineModel(nn.Module):\n",
    "    def __init__(self) -> None:\n",
    "        super(lineModel,self).__init__()\n",
    "        self.layer = nn.Linear(in_features=1, out_features=1, bias=True)\n",
    "    def forward(self,x):\n",
    "        return self.layer(x)"
   ]
  },
  {
   "cell_type": "code",
   "execution_count": 5,
   "metadata": {},
   "outputs": [
    {
     "name": "stdout",
     "output_type": "stream",
     "text": [
      "[Parameter containing:\n",
      "tensor([[-0.9367]], requires_grad=True), Parameter containing:\n",
      "tensor([-0.5388], requires_grad=True)]\n"
     ]
    }
   ],
   "source": [
    "testModel = lineModel()\n",
    "opt = torch.optim.Adam(testModel.parameters(), lr=1e-3)\n",
    "loss = torch.nn.MSELoss()\n",
    "print(list(testModel.parameters()))"
   ]
  },
  {
   "cell_type": "code",
   "execution_count": 9,
   "metadata": {},
   "outputs": [],
   "source": [
    "for i in range(10000):\n",
    "    pred = testModel(x)\n",
    "    err = loss(y,pred)\n",
    "    opt.zero_grad()\n",
    "    err.backward()\n",
    "    opt.step()"
   ]
  },
  {
   "cell_type": "code",
   "execution_count": 10,
   "metadata": {},
   "outputs": [
    {
     "name": "stdout",
     "output_type": "stream",
     "text": [
      "[Parameter containing:\n",
      "tensor([[2.0000]], requires_grad=True), Parameter containing:\n",
      "tensor([5.0000], requires_grad=True)]\n"
     ]
    }
   ],
   "source": [
    "print(list(testModel.parameters()))"
   ]
  },
  {
   "cell_type": "code",
   "execution_count": 7,
   "metadata": {},
   "outputs": [
    {
     "name": "stdout",
     "output_type": "stream",
     "text": [
      "[[0.24843502 0.07182711 0.54273665]\n",
      " [0.24645984 0.3038305  0.5237181 ]\n",
      " [0.42234617 0.71584797 0.61740625]\n",
      " [0.6911844  0.7548774  0.17489362]\n",
      " [0.42105854 0.7522951  0.6080325 ]]\n"
     ]
    }
   ],
   "source": [
    "x = torch.Tensor(5,3)\n",
    "y = torch.rand(5,3)\n",
    "a = y.numpy()\n",
    "print(a)"
   ]
  },
  {
   "cell_type": "code",
   "execution_count": null,
   "metadata": {},
   "outputs": [],
   "source": []
  }
 ],
 "metadata": {
  "interpreter": {
   "hash": "f74fbe016b2db367a5ea4c067ee85ef3a8e995ab74cee4ffb2c1c12ee402013b"
  },
  "kernelspec": {
   "display_name": "Python [conda env:CVstudy]",
   "language": "python",
   "name": "conda-env-CVstudy-py"
  },
  "language_info": {
   "codemirror_mode": {
    "name": "ipython",
    "version": 3
   },
   "file_extension": ".py",
   "mimetype": "text/x-python",
   "name": "python",
   "nbconvert_exporter": "python",
   "pygments_lexer": "ipython3",
   "version": "3.8.13"
  }
 },
 "nbformat": 4,
 "nbformat_minor": 2
}
